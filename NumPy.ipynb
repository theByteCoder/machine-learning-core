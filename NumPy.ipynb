{
 "cells": [
  {
   "cell_type": "code",
   "execution_count": 5,
   "metadata": {},
   "outputs": [],
   "source": [
    "import numpy as np\n",
    "import pandas as pd"
   ]
  },
  {
   "cell_type": "code",
   "execution_count": 6,
   "metadata": {},
   "outputs": [
    {
     "data": {
      "text/plain": [
       "array([1, 2, 3, 4])"
      ]
     },
     "execution_count": 6,
     "metadata": {},
     "output_type": "execute_result"
    }
   ],
   "source": [
    "# 1D array\n",
    "np.array([1,2,3,4])"
   ]
  },
  {
   "cell_type": "code",
   "execution_count": 7,
   "metadata": {},
   "outputs": [],
   "source": [
    "# 2D array\n",
    "n = np.array([[1,2,3,4], [5,6,7,8]])"
   ]
  },
  {
   "cell_type": "code",
   "execution_count": 8,
   "metadata": {},
   "outputs": [
    {
     "name": "stdout",
     "output_type": "stream",
     "text": [
      "<class 'numpy.ndarray'>\n"
     ]
    },
    {
     "data": {
      "text/plain": [
       "dtype('int64')"
      ]
     },
     "execution_count": 8,
     "metadata": {},
     "output_type": "execute_result"
    }
   ],
   "source": [
    "print(type(n))\n",
    "n.dtype"
   ]
  },
  {
   "cell_type": "code",
   "execution_count": 9,
   "metadata": {},
   "outputs": [
    {
     "data": {
      "text/plain": [
       "dtype('int8')"
      ]
     },
     "execution_count": 9,
     "metadata": {},
     "output_type": "execute_result"
    }
   ],
   "source": [
    "new_n = np.array(n, dtype=np.int8)\n",
    "new_n.dtype"
   ]
  },
  {
   "cell_type": "code",
   "execution_count": 10,
   "metadata": {},
   "outputs": [
    {
     "data": {
      "text/plain": [
       "array([[0., 0.],\n",
       "       [0., 0.]])"
      ]
     },
     "execution_count": 10,
     "metadata": {},
     "output_type": "execute_result"
    }
   ],
   "source": [
    "# fill rows and cols with required value 0\n",
    "np.zeros((2,2))"
   ]
  },
  {
   "cell_type": "code",
   "execution_count": 11,
   "metadata": {},
   "outputs": [
    {
     "data": {
      "text/plain": [
       "array([[12, 12, 12],\n",
       "       [12, 12, 12],\n",
       "       [12, 12, 12],\n",
       "       [12, 12, 12]])"
      ]
     },
     "execution_count": 11,
     "metadata": {},
     "output_type": "execute_result"
    }
   ],
   "source": [
    "# fill rows and cols with required value 12\n",
    "np.full((4,3), 12)"
   ]
  },
  {
   "cell_type": "code",
   "execution_count": 12,
   "metadata": {},
   "outputs": [
    {
     "data": {
      "text/plain": [
       "array([1, 2, 3, 4, 5, 6, 7, 8, 9])"
      ]
     },
     "execution_count": 12,
     "metadata": {},
     "output_type": "execute_result"
    }
   ],
   "source": [
    "# range\n",
    "np.arange(1,10)"
   ]
  },
  {
   "cell_type": "code",
   "execution_count": 13,
   "metadata": {},
   "outputs": [
    {
     "data": {
      "text/plain": [
       "array([1, 6])"
      ]
     },
     "execution_count": 13,
     "metadata": {},
     "output_type": "execute_result"
    }
   ],
   "source": [
    "# range with skip value\n",
    "np.arange(1,10, 5)"
   ]
  },
  {
   "cell_type": "code",
   "execution_count": 14,
   "metadata": {},
   "outputs": [
    {
     "data": {
      "text/plain": [
       "66"
      ]
     },
     "execution_count": 14,
     "metadata": {},
     "output_type": "execute_result"
    }
   ],
   "source": [
    "# random\n",
    "np.random.randint(1, 120)"
   ]
  },
  {
   "cell_type": "code",
   "execution_count": 15,
   "metadata": {},
   "outputs": [
    {
     "data": {
      "text/plain": [
       "array([104,  83,  85,  17,  11,  81,  29,  12])"
      ]
     },
     "execution_count": 15,
     "metadata": {},
     "output_type": "execute_result"
    }
   ],
   "source": [
    "# random  with how many random numbers required\n",
    "np.random.randint(1, 120, 8)"
   ]
  },
  {
   "cell_type": "code",
   "execution_count": 16,
   "metadata": {},
   "outputs": [
    {
     "data": {
      "text/plain": [
       "(2, 4)"
      ]
     },
     "execution_count": 16,
     "metadata": {},
     "output_type": "execute_result"
    }
   ],
   "source": [
    "# get shape of array\n",
    "n = np.array([[1,2,3,4], [5,6,7,8]])\n",
    "n.shape"
   ]
  },
  {
   "cell_type": "code",
   "execution_count": 17,
   "metadata": {},
   "outputs": [
    {
     "name": "stdout",
     "output_type": "stream",
     "text": [
      "(4, 2)\n",
      "[[1 2]\n",
      " [3 4]\n",
      " [5 6]\n",
      " [7 8]]\n",
      "(2, 4)\n",
      "[[1 2 3 4]\n",
      " [5 6 7 8]]\n"
     ]
    }
   ],
   "source": [
    "# change shape of array\n",
    "n.shape = (4,2) \n",
    "print(n.shape)\n",
    "print(n)\n",
    "\n",
    "n.shape = (2,4) \n",
    "print(n.shape)\n",
    "print(n)"
   ]
  },
  {
   "cell_type": "code",
   "execution_count": 18,
   "metadata": {},
   "outputs": [
    {
     "data": {
      "text/plain": [
       "array([[1, 2, 3, 4],\n",
       "       [5, 6, 7, 8]])"
      ]
     },
     "execution_count": 18,
     "metadata": {},
     "output_type": "execute_result"
    }
   ],
   "source": [
    "# vstack vertical stack\n",
    "a1 = np.array([1,2,3,4])\n",
    "a2 = np.array([5,6,7,8])\n",
    "np.vstack((a1, a2))"
   ]
  },
  {
   "cell_type": "code",
   "execution_count": 19,
   "metadata": {},
   "outputs": [
    {
     "data": {
      "text/plain": [
       "array([[ True,  True,  True,  True],\n",
       "       [ True,  True,  True,  True]])"
      ]
     },
     "execution_count": 19,
     "metadata": {},
     "output_type": "execute_result"
    }
   ],
   "source": [
    "np.equal(np.stack((a1,a2)), np.vstack((a1,a2)))"
   ]
  },
  {
   "cell_type": "code",
   "execution_count": 20,
   "metadata": {},
   "outputs": [
    {
     "data": {
      "text/plain": [
       "array([1, 2, 3, 4, 5, 6, 7, 8])"
      ]
     },
     "execution_count": 20,
     "metadata": {},
     "output_type": "execute_result"
    }
   ],
   "source": [
    "# hstack horizontal stack\n",
    "a1 = np.array([1,2,3,4])\n",
    "a2 = np.array([5,6,7,8])\n",
    "np.hstack((a1,a2))"
   ]
  },
  {
   "cell_type": "code",
   "execution_count": 21,
   "metadata": {},
   "outputs": [
    {
     "data": {
      "text/plain": [
       "array([[1, 5],\n",
       "       [2, 6],\n",
       "       [3, 7],\n",
       "       [4, 8]])"
      ]
     },
     "execution_count": 21,
     "metadata": {},
     "output_type": "execute_result"
    }
   ],
   "source": [
    "# column_stack\n",
    "a1 = np.array([1,2,3,4])\n",
    "a2 = np.array([5,6,7,8])\n",
    "np.column_stack((a1,a2))"
   ]
  },
  {
   "cell_type": "code",
   "execution_count": 22,
   "metadata": {},
   "outputs": [
    {
     "data": {
      "text/plain": [
       "array([4, 5])"
      ]
     },
     "execution_count": 22,
     "metadata": {},
     "output_type": "execute_result"
    }
   ],
   "source": [
    "# intersect1d get common in arrays\n",
    "b1 = np.array([1,2,3,4,5])\n",
    "b2 = np.array([4,5,6,7])\n",
    "np.intersect1d(b1, b2)"
   ]
  },
  {
   "cell_type": "code",
   "execution_count": 23,
   "metadata": {},
   "outputs": [
    {
     "name": "stdout",
     "output_type": "stream",
     "text": [
      "[2 3]\n",
      "[5 6]\n"
     ]
    }
   ],
   "source": [
    "# setdiff1d get unqiue elements in array\n",
    "c1 = np.array([1,2,3,4])\n",
    "c2 = np.array([4,1, 5,6])\n",
    "print(np.setdiff1d(c1,c2)) # get only from c1\n",
    "print(np.setdiff1d(c2,c1)) # get only from c2"
   ]
  },
  {
   "cell_type": "code",
   "execution_count": 24,
   "metadata": {},
   "outputs": [
    {
     "data": {
      "text/plain": [
       "np.int64(40)"
      ]
     },
     "execution_count": 24,
     "metadata": {},
     "output_type": "execute_result"
    }
   ],
   "source": [
    "# sum\n",
    "d1 = np.array([1,2,3,4])\n",
    "d2 = np.array([1,2,3,4])\n",
    "d3 = np.array([1,2,3,4])\n",
    "d4 = np.array([1,2,3,4])\n",
    "np.sum([d1,d2,d3,d4])"
   ]
  },
  {
   "cell_type": "code",
   "execution_count": 25,
   "metadata": {},
   "outputs": [
    {
     "data": {
      "text/plain": [
       "array([ 4,  8, 12, 16])"
      ]
     },
     "execution_count": 25,
     "metadata": {},
     "output_type": "execute_result"
    }
   ],
   "source": [
    "# sum by cols\n",
    "np.sum([d1,d2,d3,d4], axis=0)"
   ]
  },
  {
   "cell_type": "code",
   "execution_count": 26,
   "metadata": {},
   "outputs": [
    {
     "data": {
      "text/plain": [
       "array([10, 10, 10, 10])"
      ]
     },
     "execution_count": 26,
     "metadata": {},
     "output_type": "execute_result"
    }
   ],
   "source": [
    "# sum by rows\n",
    "np.sum([d1,d2,d3,d4], axis=1)"
   ]
  },
  {
   "cell_type": "code",
   "execution_count": 27,
   "metadata": {},
   "outputs": [
    {
     "name": "stdout",
     "output_type": "stream",
     "text": [
      "[12 22 32]\n",
      "[ 8 18 28]\n",
      "[20 40 60]\n",
      "[ 5. 10. 15.]\n"
     ]
    }
   ],
   "source": [
    "# basic scalar operations\n",
    "e1 = np.array([10,20,30])\n",
    "print(e1 + 2)\n",
    "print(e1 - 2)\n",
    "print(e1 * 2)\n",
    "print(e1 / 2)"
   ]
  },
  {
   "cell_type": "code",
   "execution_count": 28,
   "metadata": {},
   "outputs": [
    {
     "name": "stdout",
     "output_type": "stream",
     "text": [
      "4.225\n",
      "4.4\n",
      "1.8518571759182727\n"
     ]
    }
   ],
   "source": [
    "# mean median and standard deviation\n",
    "e2 = np.array([1,2.5,3,4.3,4.5,5.5,6,7])\n",
    "print(np.mean(e2))\n",
    "print(np.median(e2))\n",
    "print(np.std(e2))"
   ]
  },
  {
   "cell_type": "code",
   "execution_count": 29,
   "metadata": {},
   "outputs": [
    {
     "name": "stdout",
     "output_type": "stream",
     "text": [
      "140\n",
      "140\n"
     ]
    }
   ],
   "source": [
    "f1 = np.array([10,20,30])\n",
    "f2 = np.array([1,2,3])\n",
    "print(f1.dot(f2))\n",
    "print(f2.dot(f1))"
   ]
  },
  {
   "cell_type": "code",
   "execution_count": 30,
   "metadata": {},
   "outputs": [
    {
     "name": "stdout",
     "output_type": "stream",
     "text": [
      "[[1 2 3 4]\n",
      " [5 6 7 8]]\n"
     ]
    },
    {
     "data": {
      "text/plain": [
       "array([[1, 5],\n",
       "       [2, 6],\n",
       "       [3, 7],\n",
       "       [4, 8]])"
      ]
     },
     "execution_count": 30,
     "metadata": {},
     "output_type": "execute_result"
    }
   ],
   "source": [
    "# transpose\n",
    "g1 = np.array([1,2,3,4])\n",
    "g2 = np.array([5,6,7,8])\n",
    "v_stack = np.vstack((g1,g2))\n",
    "print(v_stack)\n",
    "np.transpose(v_stack)"
   ]
  },
  {
   "cell_type": "code",
   "execution_count": 31,
   "metadata": {},
   "outputs": [
    {
     "ename": "FileNotFoundError",
     "evalue": "[Errno 2] No such file or directory: 'saved/nmpy.npy'",
     "output_type": "error",
     "traceback": [
      "\u001b[0;31m---------------------------------------------------------------------------\u001b[0m",
      "\u001b[0;31mFileNotFoundError\u001b[0m                         Traceback (most recent call last)",
      "Cell \u001b[0;32mIn[31], line 2\u001b[0m\n\u001b[1;32m      1\u001b[0m \u001b[38;5;66;03m# save and load\u001b[39;00m\n\u001b[0;32m----> 2\u001b[0m \u001b[43mnp\u001b[49m\u001b[38;5;241;43m.\u001b[39;49m\u001b[43msave\u001b[49m\u001b[43m(\u001b[49m\u001b[38;5;124;43m'\u001b[39;49m\u001b[38;5;124;43msaved/nmpy\u001b[39;49m\u001b[38;5;124;43m'\u001b[39;49m\u001b[43m,\u001b[49m\u001b[43m \u001b[49m\u001b[43mv_stack\u001b[49m\u001b[43m)\u001b[49m\n\u001b[1;32m      3\u001b[0m np\u001b[38;5;241m.\u001b[39mload(\u001b[38;5;124m'\u001b[39m\u001b[38;5;124msaved/nmpy.npy\u001b[39m\u001b[38;5;124m'\u001b[39m)\n",
      "File \u001b[0;32m~/Code/machine-learning-core/venv/lib/python3.12/site-packages/numpy/lib/_npyio_impl.py:570\u001b[0m, in \u001b[0;36msave\u001b[0;34m(file, arr, allow_pickle, fix_imports)\u001b[0m\n\u001b[1;32m    568\u001b[0m     \u001b[38;5;28;01mif\u001b[39;00m \u001b[38;5;129;01mnot\u001b[39;00m file\u001b[38;5;241m.\u001b[39mendswith(\u001b[38;5;124m'\u001b[39m\u001b[38;5;124m.npy\u001b[39m\u001b[38;5;124m'\u001b[39m):\n\u001b[1;32m    569\u001b[0m         file \u001b[38;5;241m=\u001b[39m file \u001b[38;5;241m+\u001b[39m \u001b[38;5;124m'\u001b[39m\u001b[38;5;124m.npy\u001b[39m\u001b[38;5;124m'\u001b[39m\n\u001b[0;32m--> 570\u001b[0m     file_ctx \u001b[38;5;241m=\u001b[39m \u001b[38;5;28;43mopen\u001b[39;49m\u001b[43m(\u001b[49m\u001b[43mfile\u001b[49m\u001b[43m,\u001b[49m\u001b[43m \u001b[49m\u001b[38;5;124;43m\"\u001b[39;49m\u001b[38;5;124;43mwb\u001b[39;49m\u001b[38;5;124;43m\"\u001b[39;49m\u001b[43m)\u001b[49m\n\u001b[1;32m    572\u001b[0m \u001b[38;5;28;01mwith\u001b[39;00m file_ctx \u001b[38;5;28;01mas\u001b[39;00m fid:\n\u001b[1;32m    573\u001b[0m     arr \u001b[38;5;241m=\u001b[39m np\u001b[38;5;241m.\u001b[39masanyarray(arr)\n",
      "\u001b[0;31mFileNotFoundError\u001b[0m: [Errno 2] No such file or directory: 'saved/nmpy.npy'"
     ]
    }
   ],
   "source": [
    "# save and load\n",
    "np.save('saved/nmpy', v_stack)\n",
    "np.load('saved/nmpy.npy')"
   ]
  },
  {
   "cell_type": "code",
   "execution_count": 19,
   "metadata": {},
   "outputs": [
    {
     "name": "stdout",
     "output_type": "stream",
     "text": [
      "1\n",
      "2\n"
     ]
    }
   ],
   "source": [
    "# ndim to get dimension of array\n",
    "vector = np.array([0, 1,2,3])\n",
    "matrix = np.array([[0, 1,2,3], [0, 4,5,6]])\n",
    "print(vector.ndim)\n",
    "print(matrix.ndim)"
   ]
  },
  {
   "cell_type": "code",
   "execution_count": 20,
   "metadata": {},
   "outputs": [
    {
     "name": "stdout",
     "output_type": "stream",
     "text": [
      "3\n",
      "[[[ 1  2  3]\n",
      "  [ 4  5  6]]\n",
      "\n",
      " [[ 7  8  9]\n",
      "  [10 11 12]]]\n"
     ]
    }
   ],
   "source": [
    "# tensor or 3d array is an array of 2 maxtix (2d array)\n",
    "matrix1 = np.array([[1,2,3], [4,5,6]])\n",
    "matrix2 = np.array([[7,8,9], [10,11,12]])\n",
    "\n",
    "tensor = np.array([matrix1, matrix2])\n",
    "print(tensor.ndim)\n",
    "print(tensor)"
   ]
  },
  {
   "cell_type": "code",
   "execution_count": 25,
   "metadata": {},
   "outputs": [
    {
     "data": {
      "text/plain": [
       "array([1.        , 1.01010101, 1.02020202, 1.03030303, 1.04040404,\n",
       "       1.05050505, 1.06060606, 1.07070707, 1.08080808, 1.09090909,\n",
       "       1.1010101 , 1.11111111, 1.12121212, 1.13131313, 1.14141414,\n",
       "       1.15151515, 1.16161616, 1.17171717, 1.18181818, 1.19191919,\n",
       "       1.2020202 , 1.21212121, 1.22222222, 1.23232323, 1.24242424,\n",
       "       1.25252525, 1.26262626, 1.27272727, 1.28282828, 1.29292929,\n",
       "       1.3030303 , 1.31313131, 1.32323232, 1.33333333, 1.34343434,\n",
       "       1.35353535, 1.36363636, 1.37373737, 1.38383838, 1.39393939,\n",
       "       1.4040404 , 1.41414141, 1.42424242, 1.43434343, 1.44444444,\n",
       "       1.45454545, 1.46464646, 1.47474747, 1.48484848, 1.49494949,\n",
       "       1.50505051, 1.51515152, 1.52525253, 1.53535354, 1.54545455,\n",
       "       1.55555556, 1.56565657, 1.57575758, 1.58585859, 1.5959596 ,\n",
       "       1.60606061, 1.61616162, 1.62626263, 1.63636364, 1.64646465,\n",
       "       1.65656566, 1.66666667, 1.67676768, 1.68686869, 1.6969697 ,\n",
       "       1.70707071, 1.71717172, 1.72727273, 1.73737374, 1.74747475,\n",
       "       1.75757576, 1.76767677, 1.77777778, 1.78787879, 1.7979798 ,\n",
       "       1.80808081, 1.81818182, 1.82828283, 1.83838384, 1.84848485,\n",
       "       1.85858586, 1.86868687, 1.87878788, 1.88888889, 1.8989899 ,\n",
       "       1.90909091, 1.91919192, 1.92929293, 1.93939394, 1.94949495,\n",
       "       1.95959596, 1.96969697, 1.97979798, 1.98989899, 2.        ])"
      ]
     },
     "execution_count": 25,
     "metadata": {},
     "output_type": "execute_result"
    }
   ],
   "source": [
    "np.linspace(1,2,100)"
   ]
  },
  {
   "cell_type": "code",
   "execution_count": 36,
   "metadata": {},
   "outputs": [
    {
     "data": {
      "text/plain": [
       "2"
      ]
     },
     "execution_count": 36,
     "metadata": {},
     "output_type": "execute_result"
    }
   ],
   "source": [
    "np.zeros((1,2)).ndim"
   ]
  },
  {
   "cell_type": "code",
   "execution_count": 39,
   "metadata": {},
   "outputs": [
    {
     "data": {
      "text/plain": [
       "array([[0.44341211, 0.47017713, 0.52803598],\n",
       "       [0.87033472, 0.00682157, 0.32127755],\n",
       "       [0.76063522, 0.39429424, 0.54194708],\n",
       "       [0.91791476, 0.8503373 , 0.23804229],\n",
       "       [0.79919777, 0.36657547, 0.41711301],\n",
       "       [0.03267983, 0.66128388, 0.11479667],\n",
       "       [0.14037146, 0.64830393, 0.10240977],\n",
       "       [0.57706236, 0.53090851, 0.5418138 ],\n",
       "       [0.22841455, 0.3223775 , 0.88089591],\n",
       "       [0.98143981, 0.43927662, 0.82748536]])"
      ]
     },
     "execution_count": 39,
     "metadata": {},
     "output_type": "execute_result"
    }
   ],
   "source": [
    "np.random.rand(10,3)"
   ]
  },
  {
   "cell_type": "code",
   "execution_count": 64,
   "metadata": {},
   "outputs": [
    {
     "data": {
      "text/plain": [
       "array([25, 25])"
      ]
     },
     "execution_count": 64,
     "metadata": {},
     "output_type": "execute_result"
    }
   ],
   "source": [
    "np.random.randint(0,100, 2)"
   ]
  },
  {
   "cell_type": "code",
   "execution_count": 49,
   "metadata": {},
   "outputs": [
    {
     "data": {
      "text/plain": [
       "array(['1', '1', '1', '1', '1', '1', '1', '1', '1', '1'], dtype='<U1')"
      ]
     },
     "execution_count": 49,
     "metadata": {},
     "output_type": "execute_result"
    }
   ],
   "source": [
    "np.ones(10, dtype=np.str_)"
   ]
  },
  {
   "cell_type": "code",
   "execution_count": 53,
   "metadata": {},
   "outputs": [
    {
     "data": {
      "text/plain": [
       "array([1, 1, 1, 1, 1, 1, 1, 1, 1, 1], dtype=int8)"
      ]
     },
     "execution_count": 53,
     "metadata": {},
     "output_type": "execute_result"
    }
   ],
   "source": [
    "np.empty(10, dtype=np.int8)"
   ]
  },
  {
   "cell_type": "code",
   "execution_count": 55,
   "metadata": {},
   "outputs": [
    {
     "data": {
      "text/plain": [
       "array([2, 2, 2, 2, 2, 2, 2, 2, 2, 2])"
      ]
     },
     "execution_count": 55,
     "metadata": {},
     "output_type": "execute_result"
    }
   ],
   "source": [
    "np.full(10, 2)"
   ]
  },
  {
   "cell_type": "code",
   "execution_count": 59,
   "metadata": {},
   "outputs": [
    {
     "data": {
      "text/plain": [
       "array([10., 15., 20.])"
      ]
     },
     "execution_count": 59,
     "metadata": {},
     "output_type": "execute_result"
    }
   ],
   "source": [
    "np.linspace(10, 20, 3)"
   ]
  },
  {
   "cell_type": "code",
   "execution_count": 63,
   "metadata": {},
   "outputs": [
    {
     "data": {
      "text/plain": [
       "array([[[10, 10, 10],\n",
       "        [10, 10, 10]]])"
      ]
     },
     "execution_count": 63,
     "metadata": {},
     "output_type": "execute_result"
    }
   ],
   "source": [
    "np.full((1,2,3), 10)"
   ]
  },
  {
   "cell_type": "code",
   "execution_count": 67,
   "metadata": {},
   "outputs": [
    {
     "data": {
      "text/plain": [
       "array([6, 6, 6, 6, 6, 6, 6, 6, 6, 6])"
      ]
     },
     "execution_count": 67,
     "metadata": {},
     "output_type": "execute_result"
    }
   ],
   "source": [
    "np.full(10,6)"
   ]
  },
  {
   "cell_type": "code",
   "execution_count": 76,
   "metadata": {},
   "outputs": [
    {
     "name": "stdout",
     "output_type": "stream",
     "text": [
      "[10 10]\n"
     ]
    }
   ],
   "source": [
    "a = np.array((0,0))\n",
    "a.fill(10)\n",
    "print(a)"
   ]
  },
  {
   "cell_type": "code",
   "execution_count": 86,
   "metadata": {},
   "outputs": [
    {
     "data": {
      "text/plain": [
       "array([10., 10.])"
      ]
     },
     "execution_count": 86,
     "metadata": {},
     "output_type": "execute_result"
    }
   ],
   "source": [
    "a = np.empty(2)\n",
    "a.fill(10)\n",
    "a"
   ]
  },
  {
   "cell_type": "code",
   "execution_count": 96,
   "metadata": {},
   "outputs": [
    {
     "data": {
      "text/plain": [
       "array([5, 4, 3, 2, 1])"
      ]
     },
     "execution_count": 96,
     "metadata": {},
     "output_type": "execute_result"
    }
   ],
   "source": [
    "multi_DArray = np.array( [\n",
    "                            [\n",
    "                                [1,2,3,4,5],\n",
    "                                [5,4,3,2,1]\n",
    "                            ],\n",
    "                            [\n",
    "                                [6,7,8,9,10],\n",
    "                                [10,9,8,7,6]\n",
    "                            ] ] )\n",
    "multi_DArray[0, 1]"
   ]
  },
  {
   "cell_type": "code",
   "execution_count": 111,
   "metadata": {},
   "outputs": [
    {
     "name": "stdout",
     "output_type": "stream",
     "text": [
      "[1 2 3 4] [1 2 3 4 5 6 7] [ 1  2  3  4  5  6  7  8  9 10]\n"
     ]
    }
   ],
   "source": [
    "a = np.array([1,2,3,4])\n",
    "b = np.insert(a, 4, values=[5,6,7])\n",
    "c = np.append(b, values=[8,9,10])\n",
    "print(a, b, c)"
   ]
  },
  {
   "cell_type": "code",
   "execution_count": 112,
   "metadata": {},
   "outputs": [
    {
     "data": {
      "text/plain": [
       "array([ 2,  3,  4,  5,  6,  7,  8,  9, 10])"
      ]
     },
     "execution_count": 112,
     "metadata": {},
     "output_type": "execute_result"
    }
   ],
   "source": [
    "np.delete(c, 0)"
   ]
  },
  {
   "cell_type": "code",
   "execution_count": 118,
   "metadata": {},
   "outputs": [
    {
     "name": "stdout",
     "output_type": "stream",
     "text": [
      "[6 1 2 0]\n",
      "[0 1 2 6]\n"
     ]
    }
   ],
   "source": [
    "d = np.random.randint(0, 10, 4)\n",
    "print(d)\n",
    "e = np.sort(d)\n",
    "print(e)\n"
   ]
  },
  {
   "cell_type": "code",
   "execution_count": 119,
   "metadata": {},
   "outputs": [
    {
     "data": {
      "text/plain": [
       "array([0, 1, 2, 6])"
      ]
     },
     "execution_count": 119,
     "metadata": {},
     "output_type": "execute_result"
    }
   ],
   "source": [
    "np.copy(e)"
   ]
  },
  {
   "cell_type": "code",
   "execution_count": 130,
   "metadata": {},
   "outputs": [
    {
     "name": "stdout",
     "output_type": "stream",
     "text": [
      "[11000     1     2     6] [11000     1     2     6]\n"
     ]
    }
   ],
   "source": [
    "f = e\n",
    "f[0] = 11000\n",
    "print(e.view(), f.view())"
   ]
  },
  {
   "cell_type": "code",
   "execution_count": 137,
   "metadata": {},
   "outputs": [
    {
     "name": "stdout",
     "output_type": "stream",
     "text": [
      "[[1 2 3]\n",
      " [4 5 6]]\n",
      "[[1 2]\n",
      " [3 4]\n",
      " [5 6]]\n"
     ]
    }
   ],
   "source": [
    "a = np.array([[1,2,3], [4,5,6]])\n",
    "b = a.reshape(3,2)\n",
    "print(a)\n",
    "print(b)"
   ]
  },
  {
   "cell_type": "code",
   "execution_count": 149,
   "metadata": {},
   "outputs": [
    {
     "name": "stdout",
     "output_type": "stream",
     "text": [
      "[[[ 1  2]\n",
      "  [ 3  4]]\n",
      "\n",
      " [[ 5  6]\n",
      "  [ 7  8]]\n",
      "\n",
      " [[ 9 10]\n",
      "  [11 12]]]\n",
      "[ 1  2  3  4  5  6  7  8  9 10 11 12]\n",
      "[ 1  2  3  4  5  6  7  8  9 10 11 12]\n"
     ]
    }
   ],
   "source": [
    "b = np.array([ 1,  2,  3,  4,  5,  6,  7,  8,  9, 10, 11, 12])\n",
    "b = b.reshape(3,2, 2)\n",
    "print(b)\n",
    "print(b.flatten())\n",
    "print(b.ravel())"
   ]
  },
  {
   "cell_type": "code",
   "execution_count": 152,
   "metadata": {},
   "outputs": [
    {
     "data": {
      "text/plain": [
       "array([[0, 0, 0],\n",
       "       [0, 0, 0]])"
      ]
     },
     "execution_count": 152,
     "metadata": {},
     "output_type": "execute_result"
    }
   ],
   "source": [
    "np.mod(a, a)"
   ]
  },
  {
   "cell_type": "code",
   "execution_count": 155,
   "metadata": {},
   "outputs": [
    {
     "data": {
      "text/plain": [
       "array([[1.        , 1.41421356, 1.73205081],\n",
       "       [2.        , 2.23606798, 2.44948974]])"
      ]
     },
     "execution_count": 155,
     "metadata": {},
     "output_type": "execute_result"
    }
   ],
   "source": [
    "np.sqrt(a)"
   ]
  },
  {
   "cell_type": "code",
   "execution_count": 5,
   "metadata": {},
   "outputs": [
    {
     "name": "stdout",
     "output_type": "stream",
     "text": [
      "45\n",
      "[[20 25]]\n",
      "[[0 1]\n",
      " [2 3]\n",
      " [4 5]\n",
      " [6 7]\n",
      " [8 9]]\n"
     ]
    }
   ],
   "source": [
    "a = np.arange(0, 10).reshape(5,1, 2)\n",
    "print(a.sum())\n",
    "print(a.sum(axis=0))\n",
    "print(a.sum(axis=1))"
   ]
  },
  {
   "cell_type": "code",
   "execution_count": 10,
   "metadata": {},
   "outputs": [
    {
     "data": {
      "text/plain": [
       "array([[[ 0,  1],\n",
       "        [ 2,  3]],\n",
       "\n",
       "       [[ 4,  5],\n",
       "        [ 6,  7]],\n",
       "\n",
       "       [[ 8,  9],\n",
       "        [10, 11]]])"
      ]
     },
     "execution_count": 10,
     "metadata": {},
     "output_type": "execute_result"
    }
   ],
   "source": [
    "a = np.arange(12).reshape(3,2,2)\n",
    "a[0]"
   ]
  },
  {
   "cell_type": "code",
   "execution_count": 10,
   "metadata": {},
   "outputs": [
    {
     "data": {
      "text/plain": [
       "array([2, 5])"
      ]
     },
     "execution_count": 10,
     "metadata": {},
     "output_type": "execute_result"
    }
   ],
   "source": [
    "arr = np.array([[1, 2, 3],\n",
    "                [4, 5, 6]])\n",
    "arr[:, 1]"
   ]
  },
  {
   "cell_type": "code",
   "execution_count": 30,
   "metadata": {},
   "outputs": [
    {
     "name": "stdout",
     "output_type": "stream",
     "text": [
      "(120,)\n",
      "[[[  0   1   2]]\n",
      "\n",
      " [[  3   4   5]]\n",
      "\n",
      " [[  6   7   8]]\n",
      "\n",
      " [[  9  10  11]]\n",
      "\n",
      " [[ 12  13  14]]\n",
      "\n",
      " [[ 15  16  17]]\n",
      "\n",
      " [[ 18  19  20]]\n",
      "\n",
      " [[ 21  22  23]]\n",
      "\n",
      " [[ 24  25  26]]\n",
      "\n",
      " [[ 27  28  29]]\n",
      "\n",
      " [[ 30  31  32]]\n",
      "\n",
      " [[ 33  34  35]]\n",
      "\n",
      " [[ 36  37  38]]\n",
      "\n",
      " [[ 39  40  41]]\n",
      "\n",
      " [[ 42  43  44]]\n",
      "\n",
      " [[ 45  46  47]]\n",
      "\n",
      " [[ 48  49  50]]\n",
      "\n",
      " [[ 51  52  53]]\n",
      "\n",
      " [[ 54  55  56]]\n",
      "\n",
      " [[ 57  58  59]]\n",
      "\n",
      " [[ 60  61  62]]\n",
      "\n",
      " [[ 63  64  65]]\n",
      "\n",
      " [[ 66  67  68]]\n",
      "\n",
      " [[ 69  70  71]]\n",
      "\n",
      " [[ 72  73  74]]\n",
      "\n",
      " [[ 75  76  77]]\n",
      "\n",
      " [[ 78  79  80]]\n",
      "\n",
      " [[ 81  82  83]]\n",
      "\n",
      " [[ 84  85  86]]\n",
      "\n",
      " [[ 87  88  89]]\n",
      "\n",
      " [[ 90  91  92]]\n",
      "\n",
      " [[ 93  94  95]]\n",
      "\n",
      " [[ 96  97  98]]\n",
      "\n",
      " [[ 99 100 101]]\n",
      "\n",
      " [[102 103 104]]\n",
      "\n",
      " [[105 106 107]]\n",
      "\n",
      " [[108 109 110]]\n",
      "\n",
      " [[111 112 113]]\n",
      "\n",
      " [[114 115 116]]\n",
      "\n",
      " [[117 118 119]]]\n",
      "[[[  0   3   6   9  12  15  18  21  24  27  30  33  36  39  42  45  48\n",
      "    51  54  57  60  63  66  69  72  75  78  81  84  87  90  93  96  99\n",
      "   102 105 108 111 114 117]]\n",
      "\n",
      " [[  1   4   7  10  13  16  19  22  25  28  31  34  37  40  43  46  49\n",
      "    52  55  58  61  64  67  70  73  76  79  82  85  88  91  94  97 100\n",
      "   103 106 109 112 115 118]]\n",
      "\n",
      " [[  2   5   8  11  14  17  20  23  26  29  32  35  38  41  44  47  50\n",
      "    53  56  59  62  65  68  71  74  77  80  83  86  89  92  95  98 101\n",
      "   104 107 110 113 116 119]]]\n",
      "(40, 1, 3)\n"
     ]
    }
   ],
   "source": [
    "arr1 = np.arange(0, 120)\n",
    "print(arr1.shape)\n",
    "arr2 = arr1.reshape(40, 1, 3)\n",
    "print(arr2)\n",
    "print(arr2.transpose())\n",
    "print(arr2.shape)"
   ]
  },
  {
   "cell_type": "code",
   "execution_count": 32,
   "metadata": {},
   "outputs": [
    {
     "name": "stdout",
     "output_type": "stream",
     "text": [
      "   column1 column2  column3\n",
      "0        1       A     True\n",
      "1        2       B    False\n",
      "2        3       C     True\n"
     ]
    }
   ],
   "source": [
    "df = pd.DataFrame({\n",
    "    'column1': [1, 2, 3],\n",
    "    'column2': ['A', 'B', 'C'],\n",
    "    'column3': [True, False, True]\n",
    "})\n",
    "print(df)"
   ]
  },
  {
   "cell_type": "code",
   "execution_count": 35,
   "metadata": {},
   "outputs": [
    {
     "name": "stdout",
     "output_type": "stream",
     "text": [
      "   column1 column2\n",
      "0        1       A\n",
      "1        2       B\n",
      "2        3       C\n",
      "   column1 column2\n",
      "0        1       A\n",
      "1        2       B\n",
      "2        3       C\n",
      "<class 'pandas.core.frame.DataFrame'>\n",
      "<class 'pandas.core.frame.DataFrame'>\n"
     ]
    }
   ],
   "source": [
    "new_df = df[['column1', 'column2']].head()\n",
    "new_series = df[['column1', 'column2']].head()\n",
    "print(new_df)\n",
    "print(new_series)\n",
    "print(type(new_df))\n",
    "print(type(new_series))"
   ]
  },
  {
   "cell_type": "code",
   "execution_count": null,
   "metadata": {},
   "outputs": [],
   "source": []
  }
 ],
 "metadata": {
  "kernelspec": {
   "display_name": "venv",
   "language": "python",
   "name": "python3"
  },
  "language_info": {
   "codemirror_mode": {
    "name": "ipython",
    "version": 3
   },
   "file_extension": ".py",
   "mimetype": "text/x-python",
   "name": "python",
   "nbconvert_exporter": "python",
   "pygments_lexer": "ipython3",
   "version": "3.12.3"
  }
 },
 "nbformat": 4,
 "nbformat_minor": 2
}
